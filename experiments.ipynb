{
 "cells": [
  {
   "cell_type": "code",
   "execution_count": 1,
   "metadata": {},
   "outputs": [
    {
     "name": "stderr",
     "output_type": "stream",
     "text": [
      "Using TensorFlow backend.\n"
     ]
    }
   ],
   "source": [
    "from models.dense import DenseModel\n",
    "import numpy as np"
   ]
  },
  {
   "cell_type": "code",
   "execution_count": 2,
   "metadata": {},
   "outputs": [
    {
     "name": "stdout",
     "output_type": "stream",
     "text": [
      "model found at ./Dense_1.h5\n"
     ]
    }
   ],
   "source": [
    "model_obj = DenseModel('Dense_1')\n",
    "model = model_obj.model"
   ]
  },
  {
   "cell_type": "code",
   "execution_count": 3,
   "metadata": {},
   "outputs": [],
   "source": [
    "weights = []\n",
    "for layer in model.layers:\n",
    "    weights.append(layer.get_weights())"
   ]
  },
  {
   "cell_type": "code",
   "execution_count": 4,
   "metadata": {},
   "outputs": [
    {
     "name": "stdout",
     "output_type": "stream",
     "text": [
      "(array([ 3, 10, 18]),) [1.2395992 2.1489027 1.867734 ]\n",
      "(array([ 1,  9, 19]),) [2.1188827 1.491588  1.5021527]\n",
      "(array([6, 7, 9]),) [3.2103436 2.4471738 1.9699732]\n",
      "(array([ 7,  9, 21]),) [3.1842887 2.7713506 2.4042156]\n",
      "(array([ 7, 11, 21]),) [5.629892  0.5168801 1.1956438]\n",
      "(array([16, 21, 22]),) [1.4333332 1.5803924 1.817363 ]\n",
      "(array([4, 7, 9]),) [2.196287  2.7848973 2.9410996]\n",
      "(array([ 4,  7, 12]),) [1.7438669 1.5671726 1.6077892]\n",
      "(array([ 4,  7, 10]),) [1.5142438 1.8789105 2.2368793]\n",
      "(array([ 3,  4, 22]),) [1.539022  3.8963172 1.4737368]\n",
      "(array([15, 21, 22]),) [1.7419311 1.2911546 3.0658224]\n",
      "(array([ 1, 22, 24]),) [0.7810747 1.5545404 1.632463 ]\n",
      "(array([3, 6, 9]),) [1.433068  1.9165744 2.4081683]\n",
      "(array([ 6, 12, 16]),) [1.8521487 1.2466706 3.0302284]\n",
      "(array([16, 20, 22]),) [0.14916807 0.12109764 0.36506122]\n",
      "(array([13, 22, 24]),) [0.8118085 2.366033  0.9909938]\n",
      "(array([ 0,  1, 22]),) [1.6441247 0.609713  1.3313658]\n",
      "(array([15, 19, 22]),) [1.6611779 1.7033662 3.2669692]\n"
     ]
    }
   ],
   "source": [
    "l1_weights = weights[0][0].T\n",
    "for i in range(len(l1_weights)):\n",
    "    neuron_1_w = l1_weights[i]\n",
    "    sorted_weights = sorted(neuron_1_w)\n",
    "    index = np.where(neuron_1_w>=sorted_weights[-3])\n",
    "    print(index, neuron_1_w[index])"
   ]
  },
  {
   "cell_type": "code",
   "execution_count": 5,
   "metadata": {},
   "outputs": [
    {
     "data": {
      "text/plain": [
       "array([ 1.2068092 , -0.4023323 , -0.30623418,  1.2395992 , -1.2325739 ,\n",
       "       -0.45905897,  1.1957302 ,  0.9827033 ,  0.39895543, -2.1509452 ,\n",
       "        2.1489027 ,  0.33322468, -0.22327988, -0.10303939,  0.38767004,\n",
       "       -2.9313495 , -1.5027959 ,  0.5955002 ,  1.867734  , -0.24410976,\n",
       "       -0.6290795 ,  0.7440059 , -1.899377  ,  0.00787763, -1.6625001 ,\n",
       "        0.5163957 ,  0.05064723], dtype=float32)"
      ]
     },
     "execution_count": 5,
     "metadata": {},
     "output_type": "execute_result"
    }
   ],
   "source": [
    "l1_weights[0]"
   ]
  },
  {
   "cell_type": "code",
   "execution_count": 6,
   "metadata": {},
   "outputs": [
    {
     "data": {
      "text/plain": [
       "2"
      ]
     },
     "execution_count": 6,
     "metadata": {},
     "output_type": "execute_result"
    }
   ],
   "source": [
    "len(weights)"
   ]
  },
  {
   "cell_type": "code",
   "execution_count": 7,
   "metadata": {},
   "outputs": [
    {
     "data": {
      "text/plain": [
       "27"
      ]
     },
     "execution_count": 7,
     "metadata": {},
     "output_type": "execute_result"
    }
   ],
   "source": [
    "len(weights[0][0])"
   ]
  },
  {
   "cell_type": "code",
   "execution_count": 8,
   "metadata": {},
   "outputs": [
    {
     "data": {
      "text/plain": [
       "27"
      ]
     },
     "execution_count": 8,
     "metadata": {},
     "output_type": "execute_result"
    }
   ],
   "source": [
    "len(l1_weights.T)"
   ]
  },
  {
   "cell_type": "code",
   "execution_count": null,
   "metadata": {},
   "outputs": [],
   "source": []
  }
 ],
 "metadata": {
  "kernelspec": {
   "display_name": "Python 3",
   "language": "python",
   "name": "python3"
  },
  "language_info": {
   "codemirror_mode": {
    "name": "ipython",
    "version": 3
   },
   "file_extension": ".py",
   "mimetype": "text/x-python",
   "name": "python",
   "nbconvert_exporter": "python",
   "pygments_lexer": "ipython3",
   "version": "3.6.7"
  }
 },
 "nbformat": 4,
 "nbformat_minor": 2
}
