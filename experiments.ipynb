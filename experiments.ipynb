{
 "cells": [
  {
   "cell_type": "code",
   "execution_count": 1,
   "metadata": {},
   "outputs": [
    {
     "name": "stderr",
     "output_type": "stream",
     "text": [
      "Using TensorFlow backend.\n"
     ]
    }
   ],
   "source": [
    "from models.dense import DenseModel\n",
    "import numpy as np"
   ]
  },
  {
   "cell_type": "code",
   "execution_count": 2,
   "metadata": {},
   "outputs": [
    {
     "name": "stdout",
     "output_type": "stream",
     "text": [
      "model found at ./Dense_1.h5\n"
     ]
    }
   ],
   "source": [
    "model_obj = DenseModel('Dense_1')\n",
    "model = model_obj.model"
   ]
  },
  {
   "cell_type": "code",
   "execution_count": 3,
   "metadata": {},
   "outputs": [],
   "source": [
    "weights = []\n",
    "for layer in model.layers:\n",
    "    weights.append(layer.get_weights())"
   ]
  },
  {
   "cell_type": "code",
   "execution_count": 4,
   "metadata": {},
   "outputs": [
    {
     "name": "stdout",
     "output_type": "stream",
     "text": [
      "(array([ 9, 19, 24]),) [2.3070989 2.1874132 1.9661651]\n",
      "(array([13, 15, 21]),) [3.0505643 3.8516297 1.6936251]\n",
      "(array([12, 16, 19]),) [2.9560826 1.6581903 2.4252746]\n",
      "(array([ 0,  7, 22]),) [1.1299574 1.9628311 0.9498364]\n",
      "(array([ 1,  7, 18]),) [2.3425655 1.3812815 1.0763162]\n",
      "(array([17, 19, 21]),) [0.7734723 1.7425798 0.764288 ]\n",
      "(array([ 0, 20, 25]),) [2.8164465 2.114167  2.172567 ]\n",
      "(array([ 4,  7, 19]),) [2.6827035 2.7110486 5.880094 ]\n",
      "(array([13, 21, 26]),) [2.3616707 4.1106925 1.7211565]\n"
     ]
    }
   ],
   "source": [
    "l1_weights = weights[0][0].T\n",
    "for i in range(len(l1_weights)):\n",
    "    neuron_1_w = l1_weights[i]\n",
    "    sorted_weights = sorted(neuron_1_w)\n",
    "    index = np.where(neuron_1_w>=sorted_weights[-3])\n",
    "    print(index, neuron_1_w[index])"
   ]
  },
  {
   "cell_type": "code",
   "execution_count": 5,
   "metadata": {},
   "outputs": [
    {
     "data": {
      "text/plain": [
       "array([-9.053276  , -3.3004231 ,  0.84520483,  0.37401932, -3.1205504 ,\n",
       "        0.10361762, -2.778006  , -1.4184844 , -0.13806844,  2.3070989 ,\n",
       "       -7.520306  , -0.58609635,  1.7751559 , -2.5935845 ,  0.25114328,\n",
       "       -0.46329007, -0.19498797, -0.23960085,  0.8101602 ,  2.1874132 ,\n",
       "        0.30604988, -0.6257976 ,  0.5407814 ,  0.29297498,  1.9661651 ,\n",
       "       -2.5231519 , -0.8536153 ], dtype=float32)"
      ]
     },
     "execution_count": 5,
     "metadata": {},
     "output_type": "execute_result"
    }
   ],
   "source": [
    "l1_weights[0]"
   ]
  },
  {
   "cell_type": "code",
   "execution_count": 6,
   "metadata": {},
   "outputs": [
    {
     "data": {
      "text/plain": [
       "1"
      ]
     },
     "execution_count": 6,
     "metadata": {},
     "output_type": "execute_result"
    }
   ],
   "source": [
    "len(weights)"
   ]
  },
  {
   "cell_type": "code",
   "execution_count": 7,
   "metadata": {},
   "outputs": [
    {
     "data": {
      "text/plain": [
       "27"
      ]
     },
     "execution_count": 7,
     "metadata": {},
     "output_type": "execute_result"
    }
   ],
   "source": [
    "len(weights[0][0])"
   ]
  },
  {
   "cell_type": "code",
   "execution_count": 8,
   "metadata": {},
   "outputs": [
    {
     "data": {
      "text/plain": [
       "27"
      ]
     },
     "execution_count": 8,
     "metadata": {},
     "output_type": "execute_result"
    }
   ],
   "source": [
    "len(l1_weights.T)"
   ]
  }
 ],
 "metadata": {
  "kernelspec": {
   "display_name": "Python 3",
   "language": "python",
   "name": "python3"
  },
  "language_info": {
   "codemirror_mode": {
    "name": "ipython",
    "version": 3
   },
   "file_extension": ".py",
   "mimetype": "text/x-python",
   "name": "python",
   "nbconvert_exporter": "python",
   "pygments_lexer": "ipython3",
   "version": "3.6.7"
  }
 },
 "nbformat": 4,
 "nbformat_minor": 2
}
